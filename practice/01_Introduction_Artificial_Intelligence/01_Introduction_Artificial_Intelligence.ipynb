{
 "cells": [
  {
   "cell_type": "markdown",
   "id": "c45fe754",
   "metadata": {},
   "source": [
    "# Practice 1 - Introduction"
   ]
  },
  {
   "cell_type": "markdown",
   "id": "957b23b7",
   "metadata": {},
   "source": [
    "As Isaac Newton said: \"If I have seen further [than others], it is by standing on the shoulders of giants.\" This phrase is also true for python development, which is why all projects normally start with an import of preexisting libraries."
   ]
  },
  {
   "cell_type": "code",
   "execution_count": 1,
   "id": "4bc8aa98",
   "metadata": {},
   "outputs": [],
   "source": [
    "import numpy as np\n",
    "import matplotlib.pyplot as plt"
   ]
  },
  {
   "cell_type": "markdown",
   "id": "b41de0c9",
   "metadata": {},
   "source": [
    "Afterward, we are able to use the methods, provided by these libraries to create some dummy data and work with it."
   ]
  },
  {
   "cell_type": "code",
   "execution_count": 2,
   "id": "17c0828a",
   "metadata": {},
   "outputs": [],
   "source": [
    "np.random.seed(3)\n",
    "x = 4 + np.random.normal(0, 2, 24)\n",
    "y = 4 + np.random.normal(0, 2, len(x))"
   ]
  },
  {
   "cell_type": "markdown",
   "id": "38c592db",
   "metadata": {},
   "source": [
    "Let's see what we have created!"
   ]
  },
  {
   "cell_type": "code",
   "execution_count": 8,
   "id": "8b2b969a",
   "metadata": {},
   "outputs": [
    {
     "data": {
      "image/png": "[encoded data removed]",
      "text/plain": [
       "<Figure size 200x200 with 1 Axes>"
      ]
     },
     "metadata": {},
     "output_type": "display_data"
    }
   ],
   "source": [
    "# Define data point size and style\n",
    "plt.style.use('_mpl-gallery')\n",
    "sizes = np.random.uniform(15, 80, len(x))\n",
    "colors = np.random.uniform(15, 80, len(x))\n",
    "\n",
    "# Plot the data\n",
    "fig, ax = plt.subplots()\n",
    "ax.scatter(x, y, s=sizes, c=colors, vmin=0, vmax=100)\n",
    "ax.set(xlim=(0, 8), xticks=np.arange(1, 8),\n",
    "       ylim=(0, 8), yticks=np.arange(1, 8))\n",
    "\n",
    "plt.show()"
   ]
  }
 ],
 "metadata": {
  "kernelspec": {
   "display_name": "Python 3 (ipykernel)",
   "language": "python",
   "name": "python3"
  },
  "language_info": {
   "codemirror_mode": {
    "name": "ipython",
    "version": 3
   },
   "file_extension": ".py",
   "mimetype": "text/x-python",
   "name": "python",
   "nbconvert_exporter": "python",
   "pygments_lexer": "ipython3",
   "version": "3.12.0"
  }
 },
 "nbformat": 4,
 "nbformat_minor": 5
}
