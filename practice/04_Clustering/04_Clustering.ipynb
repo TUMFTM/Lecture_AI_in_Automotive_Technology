{
 "cells": [
  {
   "cell_type": "markdown",
   "metadata": {},
   "source": [
    "# Approximating route from GPS positions\n",
    "\n",
    "We have an unstructured dataset with 5k GPS positions of a bus.\n",
    "Our goal is to compress the dataset to less than 100 representative points and extract the bus route. First, we define some functions. "
   ]
  },
  {
   "cell_type": "code",
   "execution_count": 1,
   "metadata": {},
   "outputs": [],
   "source": [
    "import folium\n",
    "import pandas as pd, numpy as np, matplotlib.pyplot as plt\n",
    "import random\n",
    "from numpy import sin,cos,arctan2,sqrt,pi\n",
    "from shapely.geometry import MultiPoint\n",
    "from sklearn.cluster import DBSCAN\n",
    "from geopy.distance import great_circle\n",
    "\n",
    "####################################\n",
    "## functions below are taken (and modified a bit) from blog post published by Geoff Boeing\n",
    "## http://geoffboeing.com/2014/08/clustering-to-reduce-spatial-data-set-size/\n",
    "####################################\n",
    "\n",
    "def getDbScanClustersCenters(df, epsInKm, minObjects):\n",
    "    clusters = getDbScanClusters(df, epsInKm, minObjects)\n",
    "    center = getClustersCenters(clusters)\n",
    "    \n",
    "    #Reorder to Lat, Long\n",
    "    for item in center:\n",
    "        item[0], item[1] = item[1], item[0]\n",
    "    return center\n",
    "    \n",
    "def getDbScanClusters(df, epsInKm, minObjects):\n",
    "    coords = df.values\n",
    "    kms_per_radian = 6371.0088\n",
    "    epsilon = epsInKm / kms_per_radian\n",
    "    db = DBSCAN(eps=epsilon, min_samples=minObjects, algorithm='ball_tree', metric='haversine').fit(np.radians(coords))\n",
    "    cluster_labels = db.labels_\n",
    "    print('Number of clusters: {}'.format(len(set(cluster_labels))))\n",
    "    return pd.Series([coords[cluster_labels == n] for n in range(len(set(cluster_labels)) - 1)])\n",
    "\n",
    "def get_centermost_point(cluster):\n",
    "    centroid = (MultiPoint(cluster).centroid.x, MultiPoint(cluster).centroid.y)\n",
    "    centermost_point = min(cluster, key=lambda point: great_circle(point, centroid).m)\n",
    "    return centermost_point\n",
    "\n",
    "def getClustersCenters(clusters):\n",
    "    centermost_points = clusters.map(get_centermost_point)\n",
    "    lats, lons = zip(*centermost_points)\n",
    "    return pd.DataFrame({'lon':lons, 'lat':lats}).values.tolist()\n",
    "\n",
    "####################################\n",
    "\n",
    "def drawPointsOnMap(superMap, points, color, radiusSize):\n",
    "    print('Drawing {} points on map'.format(len(points)))\n",
    "    for point in points:\n",
    "        folium.CircleMarker(point, radius = radiusSize, fill_color = color, color = color).add_to(superMap)\n",
    "        \n",
    "        \n",
    "def getDistanceBetweenPoints(point1, point2):\n",
    "        lon1 = point1[1] * pi / 180.0\n",
    "        lon2 = point2[1] * pi / 180.0\n",
    "        lat1 = point1[0] * pi / 180.0\n",
    "        lat2 = point2[0] * pi / 180.0\n",
    "        \n",
    "        # haversine formula #### Same, but atan2 named arctan2 in numpy\n",
    "        dlon = lon2 - lon1\n",
    "        dlat = lat2 - lat1\n",
    "        a = (sin(dlat/2))**2 + cos(lat1) * cos(lat2) * (sin(dlon/2.0))**2\n",
    "        c = 2.0 * arctan2(sqrt(a), sqrt(1.0-a))\n",
    "        km = 6371.0 * c\n",
    "        return km\n",
    "    \n",
    "def getEndPoint(points):\n",
    "    pointsForFindingLineEnd = list(points)\n",
    "    currentPoint = random.choice(pointsForFindingLineEnd)\n",
    "\n",
    "    pointsForFindingLineEnd.remove(currentPoint)\n",
    "\n",
    "    while(len(pointsForFindingLineEnd) > 0):\n",
    "        nextPoint = None\n",
    "        distanceToNextPoint = float(\"inf\")\n",
    "        for point in pointsForFindingLineEnd:\n",
    "            distance = getDistanceBetweenPoints(point, currentPoint)\n",
    "            if (distance < distanceToNextPoint):\n",
    "                nextPoint = point\n",
    "                distanceToNextPoint= distance\n",
    "    \n",
    "        pointsForFindingLineEnd.remove(nextPoint)\n",
    "        currentPoint = nextPoint\n",
    "    \n",
    "    return currentPoint\n",
    "\n",
    "def getLineFromPoints(points, startingPoint):\n",
    "    linePoints = list(points)\n",
    "    currentPoint = startingPoint\n",
    "    line = []\n",
    "    while(len(linePoints) > 0):\n",
    "        nextPoint = None\n",
    "        distanceToNextPoint = float(\"inf\")\n",
    "        for point in linePoints:\n",
    "            distance = getDistanceBetweenPoints(point,currentPoint)\n",
    "            if (distance < distanceToNextPoint):\n",
    "                nextPoint = point\n",
    "                distanceToNextPoint= distance\n",
    "\n",
    "        linePoints.remove(nextPoint)\n",
    "        currentPoint = nextPoint\n",
    "        line.append(currentPoint)\n",
    "\n",
    "    return line\n"
   ]
  },
  {
   "cell_type": "markdown",
   "metadata": {},
   "source": [
    "### As always we begin with a look at our data"
   ]
  },
  {
   "cell_type": "code",
   "execution_count": null,
   "metadata": {},
   "outputs": [],
   "source": [
    "data = pd.read_csv('./data/locations.csv', index_col = False, header=0)\n",
    "print('Number of positions: {}'.format(len(data)))\n",
    "print('10 first entries:')\n",
    "print(data[0:10])\n"
   ]
  },
  {
   "cell_type": "markdown",
   "metadata": {},
   "source": [
    "### Okay, lets visualize it to get a better impression"
   ]
  },
  {
   "cell_type": "code",
   "execution_count": null,
   "metadata": {
    "scrolled": true
   },
   "outputs": [],
   "source": [
    "mapRaw = folium.Map(location=[51.127885, 17.05], zoom_start=13, tiles='OpenStreetMap')\n",
    "drawPointsOnMap(mapRaw, data.values, '#3186cc', 10)\n",
    "mapRaw"
   ]
  },
  {
   "cell_type": "markdown",
   "metadata": {},
   "source": [
    "### The next step is to utilize DBSCAN from the scikit learn library"
   ]
  },
  {
   "cell_type": "code",
   "execution_count": null,
   "metadata": {
    "scrolled": false
   },
   "outputs": [],
   "source": [
    "clustersCenters = getDbScanClustersCenters(data, 0.05, 2)\n",
    "\n",
    "\n",
    "mapC1 = folium.Map(location=[51.127885, 17.05], zoom_start=13, tiles='OpenStreetMap')\n",
    "drawPointsOnMap(mapC1, data.values, '#3186cc', 5)\n",
    "drawPointsOnMap(mapC1, clustersCenters, '#ff0000', 10)\n",
    "mapC1"
   ]
  },
  {
   "cell_type": "markdown",
   "metadata": {},
   "source": [
    "### We get clusters... but we have clusters on the detour (noise) and there are big gaps between the centers\n",
    "### Maybe playing with the parameters might help..."
   ]
  },
  {
   "cell_type": "code",
   "execution_count": null,
   "metadata": {},
   "outputs": [],
   "source": [
    "from ipywidgets import VBox, jsdlink, IntSlider\n",
    "epsilon = IntSlider(description='Epsilon (in m)', min=10, max=300, value=20)\n",
    "minPoints = IntSlider(description='Min-Points',min=2, max=50, value=2)\n",
    "VBox([epsilon, minPoints])"
   ]
  },
  {
   "cell_type": "code",
   "execution_count": null,
   "metadata": {
    "scrolled": false
   },
   "outputs": [],
   "source": [
    "clustersCenters = getDbScanClustersCenters(data, epsilon.value /1000, minPoints.value)\n",
    "mapC2 = folium.Map(location=[51.127885, 17.05], zoom_start=13, tiles='OpenStreetMap')\n",
    "drawPointsOnMap(mapC2, clustersCenters, '#ff0000', 10)\n",
    "mapC2"
   ]
  },
  {
   "cell_type": "markdown",
   "metadata": {},
   "source": [
    "### The last step is to draw the rout between our centers"
   ]
  },
  {
   "cell_type": "code",
   "execution_count": null,
   "metadata": {},
   "outputs": [],
   "source": [
    "endPoint = getEndPoint(clustersCenters)\n",
    "mapRoute = folium.Map(location=[51.127885, 17.05], zoom_start=13, tiles='OpenStreetMap')\n",
    "drawPointsOnMap(mapRoute, clustersCenters, '#ff0000', 10)\n",
    "\n",
    "line = getLineFromPoints(clustersCenters, endPoint)\n",
    "\n",
    "mapRoute.add_child(folium.PolyLine(locations = line, weight = 10, color=\"#156d08\"))\n",
    "\n",
    "mapRoute"
   ]
  },
  {
   "cell_type": "markdown",
   "metadata": {},
   "source": [
    "### We reached our goal, the detour was removed and we got a small number of representatives. "
   ]
  }
 ],
 "metadata": {
  "kernelspec": {
   "display_name": "base",
   "language": "python",
   "name": "python3"
  },
  "language_info": {
   "codemirror_mode": {
    "name": "ipython",
    "version": 3
   },
   "file_extension": ".py",
   "mimetype": "text/x-python",
   "name": "python",
   "nbconvert_exporter": "python",
   "pygments_lexer": "ipython3",
   "version": "3.10.13"
  }
 },
 "nbformat": 4,
 "nbformat_minor": 2
}
