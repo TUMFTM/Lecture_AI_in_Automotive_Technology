{
 "cells": [
  {
   "cell_type": "markdown",
   "metadata": {},
   "source": [
    "# Q-learning on the Grid World"
   ]
  },
  {
   "attachments": {
    "grafik.png": {
     "image/png": "[encoded data removed]"
    }
   },
   "cell_type": "markdown",
   "metadata": {},
   "source": [
    "![grafik.png](attachment:grafik.png)"
   ]
  },
  {
   "cell_type": "markdown",
   "metadata": {},
   "source": [
    "Defines the grid world dynamics presented in the lecture. The actions are defined as follows:  \n",
    "u = 0 : go right  \n",
    "u = 1 : go up  \n",
    "u = 2 : go left  \n",
    "u = 3 : go down  \n",
    "The input is the current state, and chosen action, the output is the next state and the reward."
   ]
  },
  {
   "cell_type": "code",
   "execution_count": null,
   "metadata": {},
   "outputs": [],
   "source": [
    "import numpy as np\n",
    "\n",
    "def gridworld(x, u):\n",
    "    # Transition Matrix\n",
    "    T = np.array([\n",
    "        [0, 1, 0, 0],\n",
    "        [1, 2, 1, 0],\n",
    "        [3, 2, 2, 1],\n",
    "        [8, 4, 2, 3],\n",
    "        [5, 4, 4, 3],\n",
    "        [6, 5, 4, 8],\n",
    "        [6, 6, 5, 7],\n",
    "        [7, 6, 8, 10],\n",
    "        [7, 5, 3, 9],\n",
    "        [10, 8, 9, 9],\n",
    "        [10, 7, 9, 11],\n",
    "        [11, 11, 11, 11]\n",
    "    ], dtype = int)\n",
    "    \n",
    "    # Get the next state\n",
    "    x2 = T[x, u]\n",
    "    \n",
    "    # Reward\n",
    "    r = -1\n",
    "    if x2 in [8, 9]:\n",
    "        r = -2\n",
    "    elif x == 11:\n",
    "        r = 0\n",
    "    \n",
    "    # Return the next state and reward\n",
    "    return x2, r"
   ]
  },
  {
   "cell_type": "markdown",
   "metadata": {},
   "source": [
    "Helper functions needed in the qlearning algorithm"
   ]
  },
  {
   "cell_type": "code",
   "execution_count": null,
   "metadata": {},
   "outputs": [],
   "source": [
    "def get_max_Q(Q, x):\n",
    "    return np.max(Q[x, :])\n",
    "\n",
    "def eps_greedy(Q, x, epsilon):\n",
    "    # Find best action\n",
    "    best_u = np.argmax(Q[x, :])\n",
    "    # Define probabilities for each action\n",
    "    prob_vec = np.ones(4) * epsilon / 3\n",
    "    prob_vec[best_u] = 1 - epsilon\n",
    "    # Random draw according to the probabilities\n",
    "    sumprob = 0\n",
    "    draw = np.random.rand()\n",
    "    for i in range(4):\n",
    "        sumprob += prob_vec[i]\n",
    "        if sumprob > draw:\n",
    "            return i\n",
    "    "
   ]
  },
  {
   "cell_type": "markdown",
   "metadata": {},
   "source": [
    "The Q-learning algorithm   \n",
    "$Q_{k+1}(x_t, u_t) = (1-\\alpha)\\cdot Q_{k}(x_t, u_t) + \\alpha \\left( r_{t+1} + \\gamma \\cdot \\max_u  Q_{k}(x_{t+1}, u) \\right)$"
   ]
  },
  {
   "cell_type": "code",
   "execution_count": null,
   "metadata": {},
   "outputs": [],
   "source": [
    "def qlearn(Q, epsilon, alpha, gamma, Nepisodes):\n",
    "    \n",
    "    ######################################\n",
    "    ### Fill here Q-learning algorithm ###\n",
    "    ######################################\n",
    "    "
   ]
  },
  {
   "cell_type": "code",
   "execution_count": null,
   "metadata": {
    "scrolled": true
   },
   "outputs": [],
   "source": [
    "# Initialize Q and define parameter\n",
    "Q = np.zeros((12, 4))\n",
    "epsilon = 0.3\n",
    "alpha = 0.8\n",
    "gamma = 1.0\n",
    "Nepisodes = 20\n",
    "\n",
    "# Start the Q-learning algorithm\n",
    "qlearn(Q, epsilon, alpha, gamma, Nepisodes)"
   ]
  },
  {
   "cell_type": "code",
   "execution_count": null,
   "metadata": {},
   "outputs": [],
   "source": [
    "# Try out the greedy policy\n",
    "x = 0\n",
    "nsteps = 0\n",
    "while x != 11:\n",
    "    u = np.argmax(Q[x, :])\n",
    "    x2, r = gridworld(x, u)\n",
    "    nsteps += 1\n",
    "    x = x2\n",
    "print(f\"Needed {nsteps} to target state\")"
   ]
  },
  {
   "cell_type": "code",
   "execution_count": null,
   "metadata": {},
   "outputs": [],
   "source": [
    "# Lets have a look at the Q function it learned.\n",
    "Q"
   ]
  }
 ],
 "metadata": {
  "@webio": {
   "lastCommId": "58360AA94D1F4FEF844D196C289D24B1",
   "lastKernelId": "2af4add4-cd78-485e-840d-d028c86e5d2c"
  },
  "kernelspec": {
   "display_name": "Python 3 (ipykernel)",
   "language": "python",
   "name": "python3"
  },
  "language_info": {
   "codemirror_mode": {
    "name": "ipython",
    "version": 3
   },
   "file_extension": ".py",
   "mimetype": "text/x-python",
   "name": "python",
   "nbconvert_exporter": "python",
   "pygments_lexer": "ipython3",
   "version": "3.8.10"
  }
 },
 "nbformat": 4,
 "nbformat_minor": 2
}
