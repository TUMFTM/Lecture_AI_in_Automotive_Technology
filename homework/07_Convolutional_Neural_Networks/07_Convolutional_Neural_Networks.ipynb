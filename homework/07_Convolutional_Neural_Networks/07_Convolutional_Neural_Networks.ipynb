{
 "cells": [
  {
   "cell_type": "markdown",
   "id": "3f923ef4",
   "metadata": {},
   "source": [
    "# Homework 8: CNN"
   ]
  },
  {
   "cell_type": "markdown",
   "id": "fd835ea7",
   "metadata": {},
   "source": [
    "You want to train the network to classify CIFAR-10 dataset that consists of 60000 color (3-channel) images of size 32x32 px. Create the network with the following specifications:\n",
    "- Layer 1:\n",
    "    - Name: conv1\n",
    "    - Convolutional Layer (number_of_filters=16, filter_size=3x3, padding=1, stride=1)\n",
    "    - ReLU activation\n",
    "    - Max Pooling (kernel_size=2, stride=2)\n",
    "- Layer 2:\n",
    "    - Name: conv2\n",
    "    - Convolutional Layer (number_of_filters=32, filter_size=3x3, padding=1, stride=1)\n",
    "    - ReLU activation\n",
    "    - Max Pooling (kernel_size=2, stride=2)\n",
    "- Layer 3:\n",
    "    - Name: conv3\n",
    "    - Convolutional Layer (number_of_filters=64, filter_size=3x3, padding=1, stride=1)\n",
    "    - ReLU activation\n",
    "    - Max Pooling (kernel_size=2, stride=2)\n",
    "\n",
    "- Layer 4:\n",
    "    - Name: fc1\n",
    "    - Linear Layer (FCN) (number_of_neurons=500)\n",
    "    - ReLU activation\n",
    "- Layer 5:\n",
    "    - Name: fc2\n",
    "    - Linear Layer (FCN) (number_of_neurons=1)\n",
    "    - Sigmoid activation\n",
    "    \n",
    "The model has to contain both `__init__` constructor and `forward()` methods."
   ]
  },
  {
   "cell_type": "code",
   "execution_count": null,
   "id": "97410eed",
   "metadata": {},
   "outputs": [],
   "source": [
    "import torch\n",
    "import torch.nn as nn\n",
    "import torch.nn.functional as F\n",
    "\n",
    "torch.manual_seed(7)\n",
    "network_input = torch.randn((1, 3, 32, 32))\n",
    "\n",
    "class KINet(nn.Module):\n",
    "    def __init__(self):\n",
    "        super(KINet, self).__init__()\n",
    "        \n",
    "        # The following website can help to calculate the dimensions.\n",
    "        # https://madebyollin.github.io/convnet-calculator/\n",
    "        \n",
    "        # YOU CAN MAKE YOUR CHANGES HERE:\n",
    "        #\n",
    "        #\n",
    "        #\n",
    "        #\n",
    "        #\n",
    "        #\n",
    "        #\n",
    "        #\n",
    "        # STOP WITH CHANGES HERE.\n",
    "\n",
    "    def forward(self, x):\n",
    "        \n",
    "        # YOU CAN MAKE YOUR CHANGES HERE:\n",
    "        #\n",
    "        #\n",
    "        #\n",
    "        #\n",
    "        #\n",
    "        #\n",
    "        #\n",
    "        #\n",
    "        # STOP WITH CHANGES HERE.\n",
    "        return x\n",
    "    \n",
    "# This will generate the network model and print out the details.\n",
    "model = KINet()\n",
    "print(model)"
   ]
  },
  {
   "cell_type": "code",
   "execution_count": null,
   "id": "4785ac1d",
   "metadata": {},
   "outputs": [],
   "source": [
    "# TOTAL NUMBER OF NETWORK PARAMETERS.\n",
    "# DO NOT CHANGE ANYTHING HERE.\n",
    "pytorch_total_params = sum(p.numel() for p in model.parameters() if p.requires_grad)\n",
    "print(pytorch_total_params)"
   ]
  },
  {
   "cell_type": "code",
   "execution_count": null,
   "id": "257edf6f",
   "metadata": {},
   "outputs": [],
   "source": [
    "# FINAL OUTPUT OF THE NETWORK\n",
    "# DO NOT CHANGE ANYTHING HERE.\n",
    "# If the network was properly coded, you will receive the answer in form\n",
    "# of the following number \"[[X.XXXX]]\".\n",
    "network_output = model(network_input)\n",
    "print(network_output)"
   ]
  }
 ],
 "metadata": {
  "kernelspec": {
   "display_name": "Python 3 (ipykernel)",
   "language": "python",
   "name": "python3"
  },
  "language_info": {
   "codemirror_mode": {
    "name": "ipython",
    "version": 3
   },
   "file_extension": ".py",
   "mimetype": "text/x-python",
   "name": "python",
   "nbconvert_exporter": "python",
   "pygments_lexer": "ipython3",
   "version": "3.7.6"
  }
 },
 "nbformat": 4,
 "nbformat_minor": 5
}
