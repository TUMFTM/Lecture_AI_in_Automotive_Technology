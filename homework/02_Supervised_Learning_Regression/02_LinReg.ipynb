{
 "cells": [
  {
   "cell_type": "markdown",
   "metadata": {},
   "source": [
    "## Task: Model evaluation\n",
    "\n",
    "You have been given a linear regression model with polynomial basis functions. The coefficients are given as w0, w1 and w2. The mathematical description of the formular looks as the following:\n",
    "\n",
    "$$ y = w_0 + w_1x + w_2x $$\n",
    "\n",
    "Question 1: You shall now programm a function, which evaluates the model prediction for arbitrary input data points. The input vector x for the data points can hold arbitrary many datapoints and is organized in form of a row vector. The parameter input is organized in form of a vector holding w0, w1 and w2 in this order. The function shall return the predicted output values based on the model. \n",
    "\n",
    "Test cases: There is one test case. It is given below. You can check if your code fulfills the requirements by running the cell. It will output a true in case that the code matches the test case and a false otherwise. \n",
    "\n",
    "Question 2: In the Moodle test there are give values for x, w_0, w_1,w_2 and $\\hat{y}$. Is the give $\\hat{y}$ equal to the model prediction y?"
   ]
  },
  {
   "cell_type": "code",
   "execution_count": 3,
   "metadata": {},
   "outputs": [],
   "source": [
    "# define model weights \n",
    "w = [1,0,1];\n",
    "# define sample points\n",
    "x = [0,1,2,3,4,5]; "
   ]
  },
  {
   "cell_type": "code",
   "execution_count": 4,
   "metadata": {},
   "outputs": [],
   "source": [
    "# implement the function evalModel\n",
    "# it should evaluate the model given in the task \n",
    "# \n",
    "def evalModel(w, x):\n",
    "    # fill in your code here! \n",
    "    return ypred; "
   ]
  },
  {
   "cell_type": "code",
   "execution_count": 5,
   "metadata": {},
   "outputs": [
    {
     "ename": "NameError",
     "evalue": "name 'ypred' is not defined",
     "output_type": "error",
     "traceback": [
      "\u001b[1;31m---------------------------------------------------------------------------\u001b[0m",
      "\u001b[1;31mNameError\u001b[0m                                 Traceback (most recent call last)",
      "Cell \u001b[1;32mIn[5], line 4\u001b[0m\n\u001b[0;32m      2\u001b[0m w \u001b[38;5;241m=\u001b[39m [\u001b[38;5;241m1\u001b[39m,\u001b[38;5;241m1\u001b[39m,\u001b[38;5;241m1\u001b[39m]; \n\u001b[0;32m      3\u001b[0m x \u001b[38;5;241m=\u001b[39m [\u001b[38;5;241m0\u001b[39m, \u001b[38;5;241m1\u001b[39m, \u001b[38;5;241m2\u001b[39m, \u001b[38;5;241m3\u001b[39m, \u001b[38;5;241m4\u001b[39m, \u001b[38;5;241m5\u001b[39m]; \n\u001b[1;32m----> 4\u001b[0m \u001b[38;5;28mprint\u001b[39m(evalModel(w, x)\u001b[38;5;241m==\u001b[39mypred_true)\n",
      "Cell \u001b[1;32mIn[4], line 6\u001b[0m, in \u001b[0;36mevalModel\u001b[1;34m(w, x)\u001b[0m\n\u001b[0;32m      4\u001b[0m \u001b[38;5;28;01mdef\u001b[39;00m \u001b[38;5;21mevalModel\u001b[39m(w, x):\n\u001b[0;32m      5\u001b[0m     \u001b[38;5;66;03m# fill in your code here! \u001b[39;00m\n\u001b[1;32m----> 6\u001b[0m     \u001b[38;5;28;01mreturn\u001b[39;00m ypred\n",
      "\u001b[1;31mNameError\u001b[0m: name 'ypred' is not defined"
     ]
    }
   ],
   "source": [
    "ypred_true = [1,3,7,13,21,31]; \n",
    "w = [1,1,1]; \n",
    "x = [0, 1, 2, 3, 4, 5]; \n",
    "print(evalModel(w, x)==ypred_true)"
   ]
  },
  {
   "cell_type": "code",
   "execution_count": null,
   "metadata": {},
   "outputs": [],
   "source": [
    "# write your own test to answer the Moodle question\n",
    "\n",
    "#fill in your code here!\n",
    "\n"
   ]
  },
  {
   "cell_type": "code",
   "execution_count": null,
   "metadata": {},
   "outputs": [],
   "source": []
  }
 ],
 "metadata": {
  "kernelspec": {
   "display_name": "base",
   "language": "python",
   "name": "python3"
  },
  "language_info": {
   "codemirror_mode": {
    "name": "ipython",
    "version": 3
   },
   "file_extension": ".py",
   "mimetype": "text/x-python",
   "name": "python",
   "nbconvert_exporter": "python",
   "pygments_lexer": "ipython3",
   "version": "3.11.7"
  }
 },
 "nbformat": 4,
 "nbformat_minor": 2
}
