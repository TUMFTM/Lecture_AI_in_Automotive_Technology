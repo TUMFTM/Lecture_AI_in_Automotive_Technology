{
 "cells": [
  {
   "cell_type": "markdown",
   "id": "669a3c57",
   "metadata": {},
   "source": [
    "# Homework: Chapter 7 - Deep Learning\n",
    "\n",
    "In the following exercise you have to construct the architecture of the neural network. To do that we will construct the object of the class `Network` that has to have following 2 methods: `__init__()` constructor and `forward()` method that will perform the forward pass.\n",
    "\n",
    "Your tasks are the following:\n",
    "\n",
    "1. Extend the existing `__init__` constructor that will create the network structure that can fit the following requirements:\n",
    "    - Input Layer: `28x28` px image Data (Hint: Don't forget to flatten the input data, i.e. fit the input dimension requirement)\n",
    "    - Hidden Layer 1: Number of neurons -> `256`\n",
    "    - Hidden Layer 2: Number of neurons -> `128`\n",
    "    - Hidden Layer 3: Number of neurons -> `32`\n",
    "    - Output Layer: Number of neurons -> `1`\n",
    "    \n",
    "    \n",
    "2. Extend the existing `forward()` method that will apply the following activation functions between the given layers:\n",
    "    - Hidden Layer 1: ReLU\n",
    "    - Hidden Layer 2: ReLU\n",
    "    - Hidden Layer 3: ReLU\n",
    "    - Output Layer: Sigmoid"
   ]
  },
  {
   "cell_type": "code",
   "execution_count": null,
   "id": "1c9c859f",
   "metadata": {},
   "outputs": [],
   "source": [
    "import torch\n",
    "import torch.nn as nn\n",
    "import torch.nn.functional as F\n",
    "\n",
    "class Network(nn.Module):\n",
    "\n",
    "    def __init__(self):\n",
    "        super().__init__()\n",
    "        \n",
    "        # MAKE YOUR CHANGES HERE:\n",
    "        #\n",
    "        #\n",
    "        #\n",
    "        #\n",
    "        #\n",
    "        # STOP WITH CHANGES HERE.\n",
    "        \n",
    "    def forward(self, x):\n",
    "        \n",
    "        # MAKE YOUR CHANGES HERE:\n",
    "        #\n",
    "        #\n",
    "        #\n",
    "        #\n",
    "        #\n",
    "        # STOP WITH CHANGES HERE.\n",
    "        \n",
    "        return x"
   ]
  },
  {
   "cell_type": "code",
   "execution_count": null,
   "id": "ab6e0c50",
   "metadata": {},
   "outputs": [],
   "source": [
    "# DO NOT CHANGE ANYTHING HERE.\n",
    "torch.manual_seed(7)\n",
    "KI_net = Network()\n",
    "print(KI_net)\n",
    "network_input = torch.rand((1, 1, 28, 28))\n",
    "network_output = KI_net(network_input)"
   ]
  },
  {
   "cell_type": "code",
   "execution_count": null,
   "id": "fab93eca",
   "metadata": {},
   "outputs": [],
   "source": [
    "# DO NOT CHANGE ANYTHING HERE.\n",
    "# Your final result will be displayed here\n",
    "print(network_output)"
   ]
  }
 ],
 "metadata": {
  "kernelspec": {
   "display_name": "Python 3 (ipykernel)",
   "language": "python",
   "name": "python3"
  },
  "language_info": {
   "codemirror_mode": {
    "name": "ipython",
    "version": 3
   },
   "file_extension": ".py",
   "mimetype": "text/x-python",
   "name": "python",
   "nbconvert_exporter": "python",
   "pygments_lexer": "ipython3",
   "version": "3.7.6"
  }
 },
 "nbformat": 4,
 "nbformat_minor": 5
}
