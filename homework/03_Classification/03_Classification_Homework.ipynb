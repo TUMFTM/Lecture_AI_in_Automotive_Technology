{
 "cells": [
  {
   "cell_type": "markdown",
   "metadata": {},
   "source": [
    "# Don't touch anything in the next cell!\n"
   ]
  },
  {
   "cell_type": "code",
   "execution_count": 1,
   "metadata": {},
   "outputs": [],
   "source": [
    "import os\n",
    "import cv2\n",
    "import glob\n",
    "import pickle\n",
    "import numpy as np\n",
    "import matplotlib.pyplot as plt\n",
    "from sklearn.preprocessing import StandardScaler\n",
    "from skimage.feature import hog\n",
    "from sklearn.model_selection import train_test_split\n",
    "from sklearn.svm import LinearSVC\n",
    "import time\n",
    "import requests\n",
    "from ipywidgets import Image\n",
    "\n",
    "def ReadImages():\n",
    "    lambo = []\n",
    "    ferrari = []\n",
    "\n",
    "    for i in range(10):\n",
    "        im = cv2.imread(\"./data/Lambo64x64/\"+str(i)+\".png\")\n",
    "        im = cv2.cvtColor(im, cv2.COLOR_BGR2RGB)\n",
    "        lambo.append(im)\n",
    "        im = cv2.imread(\"./data/Ferrari64x64/\"+str(i)+\".png\")\n",
    "        im = cv2.cvtColor(im, cv2.COLOR_BGR2RGB)\n",
    "        ferrari.append(im)\n",
    "        \n",
    "    return lambo, ferrari\n",
    "\n",
    "def Evaluation():\n",
    "    ev = []\n",
    "    test_images = []\n",
    "    for i in range(6):\n",
    "        im = cv2.imread(\"./data/ test/\"+str(i)+\".jpg\")\n",
    "        im = cv2.cvtColor(im, cv2.COLOR_BGR2RGB)\n",
    "        test_images.append(im)\n",
    "        feature = extract_features(cv2.resize(im,(64,64)))\n",
    "        scaled_features = scaler.transform(feature.reshape(1, -1))\n",
    "        ev.append(int(svc.predict(scaled_features)))\n",
    "\n",
    "    fig, axes = plt.subplots(ncols=6, figsize=(20, 5))\n",
    "\n",
    "    for i in range(6):\n",
    "        axes[i].imshow(test_images[i])\n",
    "        axes[i].set_title('Lambo' if ev[i] > 0 else 'Ferrari')\n",
    "\n",
    "    print(ev)\n",
    "    if ev==[1,1,0,0,1,0]:\n",
    "        print('Perfect classification!')\n",
    "        \n",
    "        \n",
    "    # Basic functions provided on Udacity's course to extract features.\n",
    "def bin_spatial(img, size=(32, 32)):\n",
    "    # Use cv2.resize().ravel() to create the feature vector\n",
    "    features = cv2.resize(img, size).ravel() \n",
    "    # Return the feature vector\n",
    "    return features\n",
    "\n",
    "def color_hist(img, nbins=32, bins_range=(0, 256)):\n",
    "    # Compute the histogram of the color channels separately\n",
    "    channel1_hist = np.histogram(img[:,:,0], bins=nbins, range=bins_range)\n",
    "    channel2_hist = np.histogram(img[:,:,1], bins=nbins, range=bins_range)\n",
    "    channel3_hist = np.histogram(img[:,:,2], bins=nbins, range=bins_range)\n",
    "    # Concatenate the histograms into a single feature vector\n",
    "    hist_features = np.concatenate((channel1_hist[0], channel2_hist[0], channel3_hist[0]))\n",
    "    # Return the individual histograms, bin_centers and feature vector\n",
    "    return hist_features\n",
    "\n",
    "def get_hog_features(img, orient, pix_per_cell, cell_per_block, \n",
    "                        vis=False, feature_vec=True):\n",
    "    # Call with two outputs if vis==True\n",
    "    if vis == True:\n",
    "        features, hog_image = hog(img, orientations=orient, \n",
    "                                  pixels_per_cell=(pix_per_cell, pix_per_cell),\n",
    "                                  cells_per_block=(cell_per_block, cell_per_block), \n",
    "                                  transform_sqrt=True, \n",
    "                                  visualise=vis, feature_vector=feature_vec)\n",
    "        return features, hog_image\n",
    "    # Otherwise call with one output\n",
    "    else:      \n",
    "        features = hog(img, orientations=orient, \n",
    "                       pixels_per_cell=(pix_per_cell, pix_per_cell),\n",
    "                       cells_per_block=(cell_per_block, cell_per_block), \n",
    "                       transform_sqrt=True, \n",
    "                       visualise=vis, feature_vector=feature_vec)\n",
    "        return features\n",
    "    \n",
    "def showFeatures(img, title):\n",
    "    features = extract_features(img)\n",
    "    \n",
    "    maxi = 500\n",
    "    bin_edges = []\n",
    "    for i in range(32):\n",
    "        bin_edges.append(i*8)\n",
    "\n",
    "    fig, axes = plt.subplots(ncols=4, figsize=(20,5))\n",
    "    axes[0].imshow(img)\n",
    "    axes[0].set_title(title)\n",
    "    \n",
    "    axes[1].set_ylim([0,maxi])\n",
    "    axes[1].set_xlim([0,256])\n",
    "    axes[1].bar(bin_edges[:-1], features[0:31], width = 1, color = 'r')\n",
    "    axes[1].set_title('Some Part of the feature')\n",
    "    \n",
    "    axes[2].set_ylim([0,maxi])\n",
    "    axes[2].set_xlim([0,256])\n",
    "    axes[2].bar(bin_edges[:-1], features[32:63], width = 1, color = 'g')\n",
    "    axes[2].set_title('Some differnt Part of the feature')\n",
    "    \n",
    "    axes[3].set_ylim([0,maxi])\n",
    "    axes[3].set_xlim([0,256])\n",
    "    axes[3].bar(bin_edges[:-1], features[64:95], width = 1, color = 'b')\n",
    "    axes[3].set_title('The last part of the feature')"
   ]
  },
  {
   "cell_type": "markdown",
   "metadata": {},
   "source": [
    "# Code changes only in the following two code-cells!"
   ]
  },
  {
   "cell_type": "markdown",
   "metadata": {},
   "source": [
    "## The first thing you have to do is to select suitable features\n"
   ]
  },
  {
   "cell_type": "code",
   "execution_count": 2,
   "metadata": {},
   "outputs": [],
   "source": [
    "def extract_features(image):\n",
    "    \n",
    "    #Have a look at the training data and identify a unique characteristic for the Lambos and Farraris, e.g. size, color, edges, position..\n",
    "    #During the practice, 3 different features were introduced. The corresponding functions \"bin_spatial\", \"color_hist\" and \"get_hog_features\" are given above.\n",
    "    #Decide which feature/s fit best for our training set and uncomment the line/s.\n",
    "    \n",
    "    #features1 = bin_spatial(image)\n",
    "    #features2 = color_hist(image)\n",
    "    #features3 = get_hog_features(image)\n",
    "    \n",
    "    return #...\n"
   ]
  },
  {
   "cell_type": "markdown",
   "metadata": {},
   "source": [
    "## Finish the fitModel function\n",
    "Have a look at the \"fitModel\" function from the practice, it will be very similar! \n",
    "You only have to add code were it is stated in the comments."
   ]
  },
  {
   "cell_type": "code",
   "execution_count": 32,
   "metadata": {},
   "outputs": [],
   "source": [
    "def fitModel(positive, negative, svc, scaler ):\n",
    "    \"\"\"\n",
    "    Trains the classifier `svc`. The feature extraction is done using the parameters stored in `params`.\n",
    "    The feature scalling is done by the scaler `scaler`.\n",
    "    Returns: (`svc`, fittingTime, accuracy)\n",
    "    \"\"\"\n",
    "    \n",
    "    ## Generate the positive(lambo) and negative(ferrari) feature lists\n",
    "    ##Add here-----------------------\n",
    "    \n",
    "    \n",
    "    \n",
    "    \n",
    "    ##Stop here----------------------\n",
    "    \n",
    "    \n",
    "    X = np.vstack((positive_features, negatice_features)).astype(np.float64)    \n",
    "    X_scaler = scaler.fit(X)\n",
    "    scaled_X = X_scaler.transform(X)\n",
    "    \n",
    "    y = np.hstack((np.ones(len(positive_features)), np.zeros(len(negatice_features))))\n",
    "    \n",
    "    # Split up data into randomized training and test sets\n",
    "    ##Add here-------------------------\n",
    "\n",
    "\n",
    "    \n",
    "    ##Stop here-------------------------\n",
    "    \n",
    "    \n",
    "    t=time.time()\n",
    "    \n",
    "    # Use the generated train set to fit the SVM\n",
    "    ##Add here----------------------------------\n",
    "\n",
    "    \n",
    "    ##Stop here---------------------------------\n",
    "    \n",
    "    t2 = time.time()\n",
    "    \n",
    "    fittingTime = round(t2 - t, 5)\n",
    "    accuracy = round(svc.score(X_test, y_test),4)\n",
    "    return (svc, X_scaler, fittingTime, accuracy)\n"
   ]
  },
  {
   "cell_type": "markdown",
   "metadata": {},
   "source": [
    "## Enough with function defintions...\n",
    "\n",
    "# Don't change the code below!"
   ]
  },
  {
   "cell_type": "markdown",
   "metadata": {},
   "source": [
    "### Read and visualize training images"
   ]
  },
  {
   "cell_type": "code",
   "execution_count": null,
   "metadata": {},
   "outputs": [],
   "source": [
    "lambo, ferrari = ReadImages()\n",
    "fig, axes = plt.subplots(ncols=10, nrows=2, figsize=(20, 5))\n",
    "\n",
    "\n",
    "for i in range(10):\n",
    "    axes[0,i].imshow(lambo[i])\n",
    "    axes[0,i].set_title('Lambo ' + str(i))\n",
    "    axes[1,i].imshow(ferrari[i])\n",
    "    axes[1,i].set_title('Ferrari ' + str(i))"
   ]
  },
  {
   "cell_type": "markdown",
   "metadata": {},
   "source": [
    "### Visualize features\n",
    "You have to finish the \"extract_features\" methods to continue"
   ]
  },
  {
   "cell_type": "code",
   "execution_count": null,
   "metadata": {},
   "outputs": [],
   "source": [
    "i = np.random.randint(0, 10)\n",
    "showFeatures(lambo[i], 'Lambo ' + str(i))\n",
    "showFeatures(ferrari[i], 'Lambo ' + str(i))"
   ]
  },
  {
   "cell_type": "markdown",
   "metadata": {},
   "source": [
    "### Train the SVM\n",
    "\n",
    "Lambo is the positive class, eg. label = 1\n",
    "Ferrari is the negative class, eg. label = 0\n",
    "\n",
    "You have to finish the \"fitModel\" function to continue. "
   ]
  },
  {
   "cell_type": "code",
   "execution_count": null,
   "metadata": {},
   "outputs": [],
   "source": [
    "svc, scaler, fittingTime, accuracy = fitModel(lambo, ferrari, LinearSVC(), StandardScaler())\n",
    "print('Fitting time: {} s, Accuracy: {}'.format(fittingTime, accuracy))"
   ]
  },
  {
   "cell_type": "markdown",
   "metadata": {},
   "source": [
    "### Prediction with the classifier\n",
    "This predicts the lables of previously unseen pictures. There are 6 of them in the \"test\" folder. Have a look at them and think about if it is what you expected. The correct output for the 6 images should be [1,1,0,0,1,0]"
   ]
  },
  {
   "cell_type": "code",
   "execution_count": null,
   "metadata": {},
   "outputs": [],
   "source": [
    "Evaluation()"
   ]
  }
 ],
 "metadata": {
  "kernelspec": {
   "display_name": "base",
   "language": "python",
   "name": "python3"
  },
  "language_info": {
   "codemirror_mode": {
    "name": "ipython",
    "version": 3
   },
   "file_extension": ".py",
   "mimetype": "text/x-python",
   "name": "python",
   "nbconvert_exporter": "python",
   "pygments_lexer": "ipython3",
   "version": "3.10.13"
  }
 },
 "nbformat": 4,
 "nbformat_minor": 2
}
